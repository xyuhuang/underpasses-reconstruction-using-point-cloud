{
 "cells": [
  {
   "cell_type": "code",
   "execution_count": 1,
   "id": "e9c0ec81-24ea-47a3-b844-eb7092967511",
   "metadata": {},
   "outputs": [],
   "source": [
    "from __future__ import print_function\n",
    "import pcl\n",
    "import pcl.pcl_visualization\n",
    "import numpy as np\n",
    "import laspy\n",
    "#from copy import deepcopy\n",
    "#from pclpy import pcl\n",
    "#import pcl\n",
    "#from pcl import pcl_visualization\n",
    "#import pcl.pcl_visualization\n",
    "import matplotlib.pyplot as plt"
   ]
  },
  {
   "cell_type": "code",
   "execution_count": 2,
   "id": "e611690f-1f72-420e-8c19-6ca623d134ea",
   "metadata": {},
   "outputs": [],
   "source": [
    "#convert las file to pcd file\n",
    "def las2pcd():\n",
    "    input_file=\"D:/TUM File/semester3/photogrammetry project/data/training/labelledLocalCRS/DEBY_LOD2_4959462/DEBY_LOD2_4959462.las\"\n",
    "    point_cloud=laspy.read(input_file)\n",
    "    \n",
    "    points = np.vstack((point_cloud.x, point_cloud.y, point_cloud.z)).transpose()\n",
    "    colors = np.vstack((point_cloud.red, point_cloud.green, point_cloud.blue)).transpose()\n",
    "    cloud = pcl.PointCloud.PointXYZRGBA().from_array(np.array(points, dtype=np.float32),colors)\n",
    "    address=\"D:/TUM File/semester3/photogrammetry project/data/training/labelledLocalCRS/DEBY_LOD2_4959462/DEBY_LOD2_4959462_pcl.pcd\"\n",
    "    pcl.io.savePCDFileASCII(address,cloud)"
   ]
  },
  {
   "cell_type": "code",
   "execution_count": 3,
   "id": "2f0d65a9-a88b-4d6c-b5c9-b39350cd2537",
   "metadata": {},
   "outputs": [],
   "source": [
    "\n",
    "#visualize pcd file\n",
    "def readCloud(): \n",
    "    file='D:/TUM File/semester3/photogrammetry project/data/training/labelledLocalCRS/DEBY_LOD2_4959462/DEBY_LOD2_4959462_pcl.pcd'\n",
    "    #file='D:/TUM File/semester3/photogrammetry project/data/training/labelledGlobalCRS/DEBY_LOD2_4959462_pcl.pcd'\n",
    "    cloud = pcl.load(file)\n",
    "    # Centred the data\n",
    "    centred = cloud - np.mean(cloud, 0)\n",
    "    # print(centred)\n",
    "    ptcloud_centred = pcl.PointCloud()\n",
    "    ptcloud_centred.from_array(centred)\n",
    "    visual = pcl.pcl_visualization.CloudViewing()\n",
    "\n",
    "    # PointXYZ\n",
    "    visual.ShowMonochromeCloud(ptcloud_centred, b'cloud')\n",
    "    v = True\n",
    "    while v:\n",
    "        v = not(visual.WasStopped())\n",
    "        "
   ]
  },
  {
   "cell_type": "code",
   "execution_count": null,
   "id": "1c0f2415-24ff-4edb-9f58-3332ac6477b7",
   "metadata": {},
   "outputs": [],
   "source": [
    "#las2pcd()       \n",
    "readCloud()\n",
    "\n",
    "file='D:/TUM File/semester3/photogrammetry project/data/training/labelledLocalCRS/DEBY_LOD2_4959462/DEBY_LOD2_4959462_pcl.pcd'\n",
    "cloud0 = pcl.load(file)\n"
   ]
  },
  {
   "cell_type": "code",
   "execution_count": null,
   "id": "c9174654-2cdd-46bb-92e7-1ef5196ca9a4",
   "metadata": {},
   "outputs": [],
   "source": [
    "#####point segmentation\n",
    "def regionGrowing():\n",
    "    ne=cloud0.make_NormalEstimation()\n",
    "    kdtree0=cloud0.make_kdtree()\n",
    "    # ne.set_KSearch(50)\n",
    "    ne.set_RadiusSearch(200.0)\n",
    "    # set_KSearch()和set_RadiusSearch()不要同时设置，不然计算法线结果为0\n",
    "    ne.set_SearchMethod(kdtree0)\n",
    "    normal0=ne.compute()\n",
    "    \n",
    "    #区域生长\n",
    "    start = time.time()\n",
    "    \n",
    "    rg=cloud0.make_RegionGrowing(searchRadius=400.0)# 同理，r和k只要填一个就行\n",
    "    rg.set_MaxClusterSize(100000)\n",
    "    rg.set_MinClusterSize(0)\n",
    "    rg.set_NumberOfNeighbours(200)\n",
    "    rg.set_InputNormals(normal0)\n",
    "    rg.set_SearchMethod(kdtree0)\n",
    "    rg.set_SmoothnessThreshold(2 / 180.0 * 3.14)\n",
    "    rg.set_CurvatureThreshold(0.5)\n",
    "    rg_result=rg.Extract()\n",
    "    \n",
    "    end = time.time()\n",
    "    print(\"Execution Time: \", end - start)\n",
    "    \n",
    "    # 取最大的num个区域\n",
    "    rg_list = sorted(rg_result,key = lambda i:len(i),reverse=True)  \n",
    "    arr=cloud0.to_array()\n",
    "    \n",
    "    ##渐变可视化最大的num个区域\n",
    "    vs=viewer.PCLVisualizering\n",
    "    vss1=viewer.PCLVisualizering()#初始化一个对象  \n",
    "    vs.SetBackgroundColor(vss1, 255, 255, 255)\n",
    "    \n",
    "    num=10\n",
    "    for i in range(0, num):\n",
    "        cloud_i=pcl.PointCloud(arr[rg_list[i]])\n",
    "        visualcolor0 = viewer.PointCloudColorHandleringCustom(cloud_i, 255, 0, int(255/num*i))\n",
    "        vs.AddPointCloud_ColorHandler(vss1,cloud_i,visualcolor0,id=b'cloud'+str(i).encode(),viewport=0)\n",
    "    \n",
    "    while not vs.WasStopped(vss1):\n",
    "        vs.Spin(vss1)\n",
    "\n",
    "    \n",
    "    return 0\n",
    "\n",
    "\n",
    "regionGrowing()"
   ]
  },
  {
   "cell_type": "code",
   "execution_count": null,
   "id": "c4ab1c7a-7a9f-40b0-b191-14b87f9f9f46",
   "metadata": {},
   "outputs": [],
   "source": []
  }
 ],
 "metadata": {
  "kernelspec": {
   "display_name": "Python 3",
   "language": "python",
   "name": "python3"
  },
  "language_info": {
   "codemirror_mode": {
    "name": "ipython",
    "version": 3
   },
   "file_extension": ".py",
   "mimetype": "text/x-python",
   "name": "python",
   "nbconvert_exporter": "python",
   "pygments_lexer": "ipython3",
   "version": "3.6.2"
  }
 },
 "nbformat": 4,
 "nbformat_minor": 5
}
